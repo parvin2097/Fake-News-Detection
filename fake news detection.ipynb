{
 "cells": [
  {
   "cell_type": "markdown",
   "id": "6ecaaca4",
   "metadata": {},
   "source": [
    "##### Fake News Detection \n",
    "\n",
    "This project deals with the correct building a model to accurately classify whether a piece of news is REAL or FAKE."
   ]
  },
  {
   "cell_type": "markdown",
   "id": "80a66c91",
   "metadata": {},
   "source": [
    "In this project:\n",
    "  \n",
    "   1.We build a **TfidfVectorizer** on our dataset.\n",
    "    \n",
    "   2.We build the **PassiveAggressiveClassifier** model.\n",
    "    \n",
    "   3.We evaluate our model using **accuracy score** and **confusion matrix**."
   ]
  },
  {
   "cell_type": "markdown",
   "id": "ab2d2ddb",
   "metadata": {},
   "source": [
    "**TfidfVectorizer:** It converts a collection of raw documents into matrix of TF-IDF features.\n",
    "\n",
    "**TF(Term Frequency):** The number of times a word appears in a document is called Term Frequency.\n",
    "\n",
    "**IDF(Inverse Document Frequency):** Words occurring many times in one document, but also occurs many times in other documents, may be irrelevant. IDF is a measure of significance of a term in the entire corpus."
   ]
  },
  {
   "cell_type": "markdown",
   "id": "d6e12091",
   "metadata": {},
   "source": [
    "\n",
    "\n",
    "\n",
    "*Let us begin with importing the required libraries*"
   ]
  },
  {
   "cell_type": "code",
   "execution_count": 1,
   "id": "570601fa",
   "metadata": {},
   "outputs": [],
   "source": [
    "import pandas as pd\n",
    "from sklearn.model_selection import train_test_split\n",
    "from sklearn.feature_extraction.text import TfidfVectorizer\n",
    "from sklearn.linear_model import PassiveAggressiveClassifier\n",
    "from sklearn.metrics import accuracy_score,confusion_matrix"
   ]
  },
  {
   "cell_type": "markdown",
   "id": "84a94a96",
   "metadata": {},
   "source": [
    "*Let us read the data as a dataframe and understand it*"
   ]
  },
  {
   "cell_type": "code",
   "execution_count": 2,
   "id": "910bd5d3",
   "metadata": {},
   "outputs": [
    {
     "name": "stdout",
     "output_type": "stream",
     "text": [
      "      Unnamed: 0                                              title  \\\n",
      "0           8476                       You Can Smell Hillary’s Fear   \n",
      "1          10294  Watch The Exact Moment Paul Ryan Committed Pol...   \n",
      "2           3608        Kerry to go to Paris in gesture of sympathy   \n",
      "3          10142  Bernie supporters on Twitter erupt in anger ag...   \n",
      "4            875   The Battle of New York: Why This Primary Matters   \n",
      "...          ...                                                ...   \n",
      "6330        4490  State Department says it can't find emails fro...   \n",
      "6331        8062  The ‘P’ in PBS Should Stand for ‘Plutocratic’ ...   \n",
      "6332        8622  Anti-Trump Protesters Are Tools of the Oligarc...   \n",
      "6333        4021  In Ethiopia, Obama seeks progress on peace, se...   \n",
      "6334        4330  Jeb Bush Is Suddenly Attacking Trump. Here's W...   \n",
      "\n",
      "                                                   text label  \n",
      "0     Daniel Greenfield, a Shillman Journalism Fello...  FAKE  \n",
      "1     Google Pinterest Digg Linkedin Reddit Stumbleu...  FAKE  \n",
      "2     U.S. Secretary of State John F. Kerry said Mon...  REAL  \n",
      "3     — Kaydee King (@KaydeeKing) November 9, 2016 T...  FAKE  \n",
      "4     It's primary day in New York and front-runners...  REAL  \n",
      "...                                                 ...   ...  \n",
      "6330  The State Department told the Republican Natio...  REAL  \n",
      "6331  The ‘P’ in PBS Should Stand for ‘Plutocratic’ ...  FAKE  \n",
      "6332   Anti-Trump Protesters Are Tools of the Oligar...  FAKE  \n",
      "6333  ADDIS ABABA, Ethiopia —President Obama convene...  REAL  \n",
      "6334  Jeb Bush Is Suddenly Attacking Trump. Here's W...  REAL  \n",
      "\n",
      "[6335 rows x 4 columns]\n"
     ]
    }
   ],
   "source": [
    "news=pd.read_csv('news.csv')\n",
    "print(news)"
   ]
  },
  {
   "cell_type": "code",
   "execution_count": 3,
   "id": "092c6132",
   "metadata": {},
   "outputs": [
    {
     "name": "stdout",
     "output_type": "stream",
     "text": [
      "(6335, 4)\n"
     ]
    }
   ],
   "source": [
    "print(news.shape)"
   ]
  },
  {
   "cell_type": "code",
   "execution_count": 4,
   "id": "e2c942af",
   "metadata": {},
   "outputs": [
    {
     "name": "stdout",
     "output_type": "stream",
     "text": [
      "         Unnamed: 0\n",
      "count   6335.000000\n",
      "mean    5280.415627\n",
      "std     3038.503953\n",
      "min        2.000000\n",
      "25%     2674.500000\n",
      "50%     5271.000000\n",
      "75%     7901.000000\n",
      "max    10557.000000\n"
     ]
    }
   ],
   "source": [
    "print(news.describe())"
   ]
  },
  {
   "cell_type": "code",
   "execution_count": 5,
   "id": "f55be813",
   "metadata": {},
   "outputs": [
    {
     "name": "stdout",
     "output_type": "stream",
     "text": [
      "0       FAKE\n",
      "1       FAKE\n",
      "2       REAL\n",
      "3       FAKE\n",
      "4       REAL\n",
      "        ... \n",
      "6330    REAL\n",
      "6331    FAKE\n",
      "6332    FAKE\n",
      "6333    REAL\n",
      "6334    REAL\n",
      "Name: label, Length: 6335, dtype: object\n"
     ]
    }
   ],
   "source": [
    "labels=news.label\n",
    "print(labels)"
   ]
  },
  {
   "cell_type": "markdown",
   "id": "0662fd54",
   "metadata": {},
   "source": [
    "*Let us split our datset for training and testing*"
   ]
  },
  {
   "cell_type": "code",
   "execution_count": 6,
   "id": "807e7f67",
   "metadata": {},
   "outputs": [],
   "source": [
    "xtrain,xtest,ytrain,ytest=train_test_split(news['text'],labels,test_size=0.2,random_state=1)"
   ]
  },
  {
   "cell_type": "markdown",
   "id": "000cf06c",
   "metadata": {},
   "source": [
    "*Now,We build our TfidfVectorizer for our data to avoid the stop words in English language since our data is in English,fit and tranform our train data,transform our test data.*"
   ]
  },
  {
   "cell_type": "code",
   "execution_count": 7,
   "id": "78ad219a",
   "metadata": {},
   "outputs": [],
   "source": [
    "tfidf_vector=TfidfVectorizer(stop_words='english',max_df=0.7)\n",
    "tfidf_train=tfidf_vector.fit_transform(xtrain)\n",
    "tfidf_test=tfidf_vector.transform(xtest)"
   ]
  },
  {
   "cell_type": "markdown",
   "id": "db8ac222",
   "metadata": {},
   "source": [
    "*Next,let us build our PassiveAggressiveClassifier model with our vectorized data.*"
   ]
  },
  {
   "cell_type": "code",
   "execution_count": 8,
   "id": "db322f4f",
   "metadata": {},
   "outputs": [],
   "source": [
    "model=PassiveAggressiveClassifier(max_iter=20).fit(tfidf_train,ytrain)"
   ]
  },
  {
   "cell_type": "code",
   "execution_count": 9,
   "id": "97776fbb",
   "metadata": {},
   "outputs": [],
   "source": [
    "ypred=model.predict(tfidf_test)"
   ]
  },
  {
   "cell_type": "markdown",
   "id": "2487a766",
   "metadata": {},
   "source": [
    "*Finally,let us evaluate our model using accuracy score and confusion*"
   ]
  },
  {
   "cell_type": "code",
   "execution_count": 10,
   "id": "5aa4d034",
   "metadata": {},
   "outputs": [
    {
     "name": "stdout",
     "output_type": "stream",
     "text": [
      "[[615  36]\n",
      " [ 33 583]]\n"
     ]
    }
   ],
   "source": [
    "confusion_mat=confusion_matrix(ytest,ypred)\n",
    "print(confusion_mat)"
   ]
  },
  {
   "cell_type": "code",
   "execution_count": 11,
   "id": "141e059e",
   "metadata": {},
   "outputs": [
    {
     "name": "stdout",
     "output_type": "stream",
     "text": [
      "0.9455406471981057\n"
     ]
    }
   ],
   "source": [
    "accuracy=accuracy_score(ytest,ypred)\n",
    "print(accuracy)"
   ]
  },
  {
   "cell_type": "markdown",
   "id": "9fedcbc7",
   "metadata": {},
   "source": [
    "*Thus we have finally achieved an accuracy of 94% using our model.*"
   ]
  }
 ],
 "metadata": {
  "kernelspec": {
   "display_name": "Python 3",
   "language": "python",
   "name": "python3"
  },
  "language_info": {
   "codemirror_mode": {
    "name": "ipython",
    "version": 3
   },
   "file_extension": ".py",
   "mimetype": "text/x-python",
   "name": "python",
   "nbconvert_exporter": "python",
   "pygments_lexer": "ipython3",
   "version": "3.9.4"
  }
 },
 "nbformat": 4,
 "nbformat_minor": 5
}
